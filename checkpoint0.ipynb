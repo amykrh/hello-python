{
  "nbformat": 4,
  "nbformat_minor": 0,
  "metadata": {
    "colab": {
      "name": "checkpoint0.ipynb",
      "provenance": []
    },
    "kernelspec": {
      "name": "python3",
      "display_name": "Python 3"
    },
    "language_info": {
      "name": "python"
    }
  },
  "cells": [
    {
      "cell_type": "code",
      "execution_count": 2,
      "metadata": {
        "colab": {
          "base_uri": "https://localhost:8080/"
        },
        "id": "10AgXxj25MRt",
        "outputId": "9e215aae-1dac-4d81-ac79-c191e3dda3e8"
      },
      "outputs": [
        {
          "output_type": "stream",
          "name": "stdout",
          "text": [
            "Welcome to python world! Let's start coding\n"
          ]
        }
      ],
      "source": [
        "print (\"Welcome to python world! Let's start coding\")"
      ]
    },
    {
      "cell_type": "markdown",
      "source": [
        "extension is ipynb"
      ],
      "metadata": {
        "id": "mhwkS0Up6T4E"
      }
    },
    {
      "cell_type": "code",
      "source": [
        ""
      ],
      "metadata": {
        "id": "EqqBPLtb6pSt"
      },
      "execution_count": null,
      "outputs": []
    }
  ]
}